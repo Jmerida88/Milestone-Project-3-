{
  "nbformat": 4,
  "nbformat_minor": 0,
  "metadata": {
    "colab": {
      "provenance": []
    },
    "kernelspec": {
      "name": "python3",
      "display_name": "Python 3"
    },
    "language_info": {
      "name": "python"
    }
  },
  "cells": [
    {
      "cell_type": "markdown",
      "metadata": {
        "id": "1lDZZErLuVot"
      },
      "source": [
        "#Milestone Project 3\n",
        "\n",
        "##Part 1: Planning"
      ]
    },
    {
      "cell_type": "markdown",
      "source": [],
      "metadata": {
        "id": "qsfvazv-6qrJ"
      }
    },
    {
      "cell_type": "markdown",
      "metadata": {
        "id": "qnXcVBJtuTPC"
      },
      "source": [
        "## Task 1: Choose a Research Question\n",
        "\n",
        "For this task, we're going to focus on formulating a research question with a compelling, real-world application that can be answered using a machine learning model. There is no specific area or topic that you're required to investigate.  In fact, it's usually more interesting if you're exploring your own personal interests or answering a question related to the industry where you will direct your job search."
      ]
    },
    {
      "cell_type": "markdown",
      "metadata": {
        "id": "qZ6b1PQlvbOO"
      },
      "source": [
        "**The most important rule of research questions is to actually have one.** Many, many projects suffer because the learner begins with a vague, general sense of direction but doesn’t have a clear, specific question to answer.  For example, you might wish to complete your Milestone 3 project about shopping habits at a particular online retailer, but the data you use and the ML model you develop will depend on your specific research question.  \n",
        "\n",
        "For example, you’ll need different methods to answer the question “Are customers who see a new version of the store website more likely to make a purchase?” than to answer the question, “What products do customers often purchase in the same order?”"
      ]
    },
    {
      "cell_type": "markdown",
      "metadata": {
        "id": "Eoj8fOkfvgDc"
      },
      "source": [
        "**The second most important rule of research questions is not to get in over your head.**  If you are really interested in your topic, you will probably have lots and lots of research questions that you are tempted to answer with this project.  Do not do it!  For this project, you will answer one (and only one) specific, well-defined question.  "
      ]
    },
    {
      "cell_type": "markdown",
      "metadata": {
        "id": "qHMfV_zbvlwM"
      },
      "source": [
        "Research is not a mechanical process and often doesn’t proceed in a straight line, but it's almost always best to spend time at the start of your project developing and refining a core question that will motivate your study: it makes every aspect of the research process easier.\n",
        "\n",
        "\n",
        "**Although you may need to try a lot of things on your way to answering your research question, please remove any code that is not part of your finished project before submitting.**\n",
        "\n",
        "**This notebook should be able to run from start to finish without error.** \n"
      ]
    },
    {
      "cell_type": "markdown",
      "metadata": {
        "id": "bjqNOJ6NvrDS"
      },
      "source": [
        "**Step 1** \n",
        "\n",
        "Brainstorm three industries or topics that you most interested in exploring for this project."
      ]
    },
    {
      "cell_type": "markdown",
      "metadata": {
        "id": "6tqyA-_QwShM"
      },
      "source": [
        "**Step 1 Answer**\n",
        "\n",
        "1. Ecommerce\n",
        "2. Telecom \n",
        "3. Auto Loan Collections "
      ]
    },
    {
      "cell_type": "markdown",
      "metadata": {
        "id": "rSFgF22pwbxx"
      },
      "source": [
        "**Step 2** \n",
        "\n",
        "Pick the industry or topic from Step 1 that interests you the most.  Brainstorm three potential research questions that you could answer for this project.  **Right now, the question will be fairly broad.  You will refine your research question once you select your data set.**  Each potential research question should have the following qualities:\n",
        "\n",
        "*   It's a question, not a statement.\n",
        "*   It has a real-world application with clear stakeholder(s).\n",
        "*   You can answer the question using a machine learning model.\n",
        "*   You know (or have a pretty good idea) which machine learning model will be appropriate for your research question.\n",
        "*   You have a pretty good idea how to find the data that will answer your question (more on that later).\n",
        "*   You don't know the answer in advance. "
      ]
    },
    {
      "cell_type": "markdown",
      "metadata": {
        "id": "Yuxln0sDSaTI"
      },
      "source": [
        "**Step 2 Answer**\n",
        "\n",
        "I'm going to focus on a Telecom company's churn rate call center data.\n",
        "\n",
        "1. What demographic of customer Churns before 12 months? How Many after 12? \n",
        "2. How many customer buy bundled packages vs single service contracts? \n",
        "3. How many customers choose a month to month contract vs yearly?"
      ]
    },
    {
      "cell_type": "markdown",
      "metadata": {
        "id": "HwjFEfxKSvUD"
      },
      "source": [
        "**Step 3** \n",
        "\n",
        "Rank your three potential research questions from Step 2 in order from one to three with one being your top choice and two and three being backup choices.  \n",
        "\n",
        "When ranking your research questions, think both about what interests you the most and what will be practical.  How well-defined is each research question?  How difficult will it be to find data to answer that question?  How difficult will it be to wrangle the data?  How confident do you feel about selecting an ML model to answer the research question?\n",
        "\n",
        "This is a great time to involve your instructor, who can provide guidance on revising your ideas in Step 2 and identifying your top and backup research questions. "
      ]
    },
    {
      "cell_type": "markdown",
      "metadata": {
        "id": "IbIdifQkUdVI"
      },
      "source": [
        "**Step 3 Answer**\n",
        "\n",
        "First choice: What demographic of customer Churns before 12 months? How Many after 12? \n",
        "\n",
        "Back up choices: How many customer buy bundled packages vs single service contracts? \n",
        "How many customers choose a month to month contract vs yearly?"
      ]
    },
    {
      "cell_type": "markdown",
      "metadata": {
        "id": "3x-aZs05UlJE"
      },
      "source": [
        "**My Milestone Project 3 Research Question Is:**\n",
        "\n",
        "What demographic of customer Churns before 12 months? How Many after 12? \n"
      ]
    },
    {
      "cell_type": "markdown",
      "metadata": {
        "id": "o0wz2-4iUytl"
      },
      "source": [
        "## Task 2: Select a Data Set \n",
        "\n",
        "Once you have a research question, you need to find a publically available data set that will allow you to answer it."
      ]
    },
    {
      "cell_type": "markdown",
      "metadata": {
        "id": "zdH_T0n4VNgT"
      },
      "source": [
        "\n",
        "There are lots of potential sources.  A few that are particularly useful are:\n",
        "\n",
        "Awesome public data sets: https://github.com/awesomedata/awesome-public-datasets\n",
        "\n",
        "Kaggle: https://www.kaggle.com/datasets\n",
        "\n",
        "UC Irvine Machine Learning: https://archive.ics.uci.edu/ml/datasets.php\n",
        "\n",
        "Definitely Google around for more data sources and ask your peers and instructor!\n",
        " \n"
      ]
    },
    {
      "cell_type": "markdown",
      "metadata": {
        "id": "7Vf4NTGMVhqM"
      },
      "source": [
        "**Step 1** \n",
        "\n",
        "Find at least one data set that you can use to answer your research question from Task 1.  \n",
        "\n",
        "Your data set should:\n",
        "* Be at least 100 records long.  You'll need a lot more records if you want to use a neural network.  \n",
        "* Be publicly available on the Internet. Don't collect your own data.  Don’t use data that can’t be attributed to a reputable source.\n",
        "* Have at least four features (remember that, when modeling text data, each word is a feature).\n",
        "\n",
        "This is another good opportunity to check in with your instructor and make sure you are on the right track.  \n",
        "\n",
        "\n"
      ]
    },
    {
      "cell_type": "markdown",
      "metadata": {
        "id": "M_DfahMdW4Rt"
      },
      "source": [
        "**Step 1 Answer**\n",
        "\n",
        "I am going to use a Kaggle Dataset that tracks internet, phone line sales, customer churn rates, and contract details. This dataset is sourced by PwC digital accelerator initiative externship program It is also available on forage learning platform and can be found [here](https://www.kaggle.com/datasets/datazng/telecom-company-churn-rate-call-center-data)."
      ]
    },
    {
      "cell_type": "markdown",
      "metadata": {
        "id": "tvo6xPBE5_Q8"
      },
      "source": [
        "**Step 2** \n",
        "\n",
        "Refine your research question so it applies to your specific data set.  \n",
        "\n",
        "For example, if your broad research question was \"How can I use machine learning to group customers by what they buy?\" and you select a data set that contains Target holiday shopping orders, your refined research question might be something like, \"Can I group Target customers by their holiday shopping orders?\"\n",
        "\n",
        "**At this point, it is possible that you will discover that you can't find a data set and research question that work well together.  Work with your instructor to either modify your current question or select one of your backup research questions above. To complete this task successfully, you will need to have selected a research question AND have a data set that can be used to answer it.**\n"
      ]
    },
    {
      "cell_type": "markdown",
      "metadata": {
        "id": "Kk-rG1e17GW0"
      },
      "source": [
        "**Step 2 Answer**\n",
        "\n",
        "My refined research question is: Can I group consumers by tenure, and find out how many churn within 1 year as opposesed to post 1 year?"
      ]
    },
    {
      "cell_type": "markdown",
      "metadata": {
        "id": "Z2ld_oYpXTlS"
      },
      "source": [
        "# Task 3: Conduct Exploratory Data Analysis \n",
        "\n",
        "The purpose of exploratory data analysis at the project planning stage is to make sure that your data will answer your research question. It is possible to do everything correctly during this step and still hit a roadblock when you actually run your ML model, but it’s much less likely.\n"
      ]
    },
    {
      "cell_type": "markdown",
      "metadata": {
        "id": "E5xspQ0_XyH2"
      },
      "source": [
        "**Step 1** \n",
        "\n",
        "Determine the type(s) of machine learning model(s) you will use to answer your research question.  There might be only one type of model that will work, or you might have a number of models to choose from."
      ]
    },
    {
      "cell_type": "markdown",
      "metadata": {
        "id": "ufMSg0vqYTY4"
      },
      "source": [
        "**Step 1 Answer** \n",
        "\n",
        "I need to use a Classification model because customer Tenure and Churn rate will need to be categorized into 4 groups from Tenure under 1 year (0-12 months), Tenure over 1 year (>=13 months), and whether or not a customer churned within either category."
      ]
    },
    {
      "cell_type": "markdown",
      "metadata": {
        "id": "wPokiwSFYZbN"
      },
      "source": [
        "**Step 2** \n",
        "\n",
        "Are there any requirements your data must meet to use the ML model(s) you listed in Step 1?  For example, if you plan to use a logistic regression model, you must have a categorical target.  If you wish to use natural language processing, you'll need a large amount of text data.\n"
      ]
    },
    {
      "cell_type": "markdown",
      "metadata": {
        "id": "t1OF8YFSZMIU"
      },
      "source": [
        "**Step 2 Answer** \n",
        "\n",
        "Yes, my target is a categorical value."
      ]
    },
    {
      "cell_type": "markdown",
      "metadata": {
        "id": "HLbjR-PyZVwg"
      },
      "source": [
        "**Step 3** \n",
        "\n",
        "Using visualizations or summary data, show that the requirements you listed in Step 2 are met by your data.  Feel free to add code blocks as necessary.\n"
      ]
    },
    {
      "cell_type": "code",
      "metadata": {
        "id": "edfSQnaxcMR2",
        "colab": {
          "base_uri": "https://localhost:8080/"
        },
        "outputId": "e91c3d96-03f3-453f-f84a-a04ada070aed"
      },
      "source": [
        "# Step 3 Answer\n",
        "import pandas as pd\n",
        "pd.set_option('display.max_columns', None)\n",
        "\n",
        "Churn = pd.read_csv('Telecom Churn Rate Dataset.csv')\n",
        "\n",
        "print(Churn.head())\n"
      ],
      "execution_count": 2,
      "outputs": [
        {
          "output_type": "stream",
          "name": "stdout",
          "text": [
            "   customerID  gender  SeniorCitizen Partner Dependents  tenure PhoneService  \\\n",
            "0  7590-VHVEG  Female              0     Yes         No       1           No   \n",
            "1  5575-GNVDE    Male              0      No         No      34          Yes   \n",
            "2  3668-QPYBK    Male              0      No         No       2          Yes   \n",
            "3  7795-CFOCW    Male              0      No         No      45           No   \n",
            "4  9237-HQITU  Female              0      No         No       2          Yes   \n",
            "\n",
            "      MultipleLines InternetService OnlineSecurity OnlineBackup  \\\n",
            "0  No phone service             DSL             No          Yes   \n",
            "1                No             DSL            Yes           No   \n",
            "2                No             DSL            Yes          Yes   \n",
            "3  No phone service             DSL            Yes           No   \n",
            "4                No     Fiber optic             No           No   \n",
            "\n",
            "  DeviceProtection TechSupport StreamingTV StreamingMovies        Contract  \\\n",
            "0               No          No          No              No  Month-to-month   \n",
            "1              Yes          No          No              No        One year   \n",
            "2               No          No          No              No  Month-to-month   \n",
            "3              Yes         Yes          No              No        One year   \n",
            "4               No          No          No              No  Month-to-month   \n",
            "\n",
            "  PaperlessBilling              PaymentMethod  MonthlyCharges TotalCharges  \\\n",
            "0              Yes           Electronic check           29.85        29.85   \n",
            "1               No               Mailed check           56.95       1889.5   \n",
            "2              Yes               Mailed check           53.85       108.15   \n",
            "3               No  Bank transfer (automatic)           42.30      1840.75   \n",
            "4              Yes           Electronic check           70.70       151.65   \n",
            "\n",
            "   numAdminTickets  numTechTickets Churn  \n",
            "0                0               0    No  \n",
            "1                0               0    No  \n",
            "2                0               0   Yes  \n",
            "3                0               3    No  \n",
            "4                0               0   Yes  \n"
          ]
        }
      ]
    },
    {
      "cell_type": "markdown",
      "metadata": {
        "id": "UIXTz2t7VatW"
      },
      "source": [
        "**Step 4**\n",
        "\n",
        "Explore your data to determine what kind of data cleaning or wrangling will be necessary before you run your ML model. \n",
        "\n",
        "Here are some questions to consider:\n",
        "* How many observations does your data set have?\n",
        "* How many features does your data set have?\n",
        "* Does your data have any missing values?\n",
        "* If your data has missing values, will you drop the records or impute the missing data?  What will your imputation strategy be? \n",
        "* Does your data have any outliers or unusual values?  If so, how will you handle them? \n",
        "* Will you need to do any feature engineering or drop any features from your data?\n",
        "* Will you need to encode any categorical data or standardize or normalize quantitative features?  \n",
        "* Will you need to split your data into traning and testing sets?\n",
        "* Will you need to do any preprocessing of text data?\n",
        "\n",
        "If you aren’t sure how to answer any of these questions, your instructor can give you guidance and suggestions.\n",
        "\n"
      ]
    },
    {
      "cell_type": "code",
      "metadata": {
        "id": "DBZmex_8cVvd",
        "colab": {
          "base_uri": "https://localhost:8080/"
        },
        "outputId": "2a85ad3f-1ad9-400e-a273-f479a5dca0cc"
      },
      "source": [
        "#Determining the number observations and features\n",
        "print('The number of my observations in my data is', Churn.shape[0])\n",
        "print('The number of my features in my data is', Churn.shape[1])\n",
        "\n",
        "\n",
        "print('The number of missing values in my data is', Churn.isna().sum().sum())"
      ],
      "execution_count": 3,
      "outputs": [
        {
          "output_type": "stream",
          "name": "stdout",
          "text": [
            "The number of my observations in my data is 7043\n",
            "The number of my features in my data is 23\n",
            "The number of missing values in my data is 0\n"
          ]
        }
      ]
    },
    {
      "cell_type": "markdown",
      "metadata": {
        "id": "M6kHJMnKbDra"
      },
      "source": [
        "**Step 4 Answer**\n",
        "\n",
        "My Data has 7,043 Observations and 23 features. This is no missing data.\n",
        "\n",
        "I will need to feature engineer the tenure and Churn column via Binary Encoding to convert them to numerical values for use in this Classification model. I won't need to standardize or normalize the data will be grouped into their own categories.\n",
        "\n",
        "My target value is the likelihood that a consumer will churn within a certain time frame. I will need to split the data into training and testing sets of logistic regression.\n",
        "\n"
      ]
    },
    {
      "cell_type": "markdown",
      "metadata": {
        "id": "rJFE-Gk1dHlG"
      },
      "source": [
        "**At this point, it is possible that you will discover that you can't answer your research question with your data set.  Work with your instructor to either modify your research question, select a backup research question, or select a new data set. To complete this task successfully, you will need to have selected a research question, have a data set that can be used to answer it, AND have performed EDA.**"
      ]
    },
    {
      "cell_type": "markdown",
      "metadata": {
        "id": "HhyI1UgEcxOC"
      },
      "source": [
        "## Task 4: Develop a Project Plan \n",
        "\n",
        "Now you are ready to plan out everything that will be in your final project slide deck.  \n"
      ]
    },
    {
      "cell_type": "markdown",
      "metadata": {
        "id": "T6A0y3Q7eUCo"
      },
      "source": [
        "**Step 1** \n",
        "\n",
        "Write about one paragraph of background to give your audience some context for your research question.  What motivated you to ask this specific research question?  What is the real world application?  Think about your stakeholder(s) and what that person would want to know about the topic before you got started."
      ]
    },
    {
      "cell_type": "markdown",
      "metadata": {
        "id": "TwCPbC0We_fE"
      },
      "source": [
        "**Step 1 Answer**\n",
        "\n",
        "The Topic of customer churn is at the top of mind when leading a successful telecom business. Knowing and understanding what what products sell the most, our customer demographics, and most importantly which how many of these customers stay the longest and which don't is imperative to company growth. \n",
        "\n",
        "Our goal is to identify when a customer is more likely to cancel their contracts so we can better structure our packages and remain competitve. \n",
        "\n",
        "We will test our data against current churn rates against contract types to identify which produce a higher %  of churn and why."
      ]
    },
    {
      "cell_type": "markdown",
      "metadata": {
        "id": "CEwt_DrIedv6"
      },
      "source": [
        "**Step 2** \n",
        "\n",
        "Write one or two paragraphs describing your data set.  What was the source of the data?   Why did you choose to use this particular data set?  Did you experience any challenges with accessing or loading the data?  Describe any data wrangling you need to do to run your ML model."
      ]
    },
    {
      "cell_type": "markdown",
      "metadata": {
        "id": "F6aD8mXffCBd"
      },
      "source": [
        "**Step 2 Answer**\n",
        "\n",
        "The source of my dataset is provided by PwC digital accelerator initiative externship program, which was made available on Kaggle [here](https://www.kaggle.com/datasets/datazng/telecom-company-churn-rate-call-center-data).\n",
        "\n",
        "I chose this dataset because it fit my original research question. As I continued this process I was able to further refine my question which has led me to learn more about logistic regression modeling. Also, this dataset being from a call center made it feel immediately familiar due to my real world background. There's a bit of challenging data wrangling that needs to be done to increase accuracy in the prediction modeling."
      ]
    },
    {
      "cell_type": "markdown",
      "metadata": {
        "id": "A_1IYpwRev5M"
      },
      "source": [
        "**Step 3**\n",
        "\n",
        "Write one paragraph describing the model or models you plan to use.  Why did you pick this model or models?  How will they answer your research question?  What metrics will you use to evaluate the model performance?  "
      ]
    },
    {
      "cell_type": "markdown",
      "metadata": {
        "id": "C6_lhy2wfEdQ"
      },
      "source": [
        "**Step 3 Answer**\n",
        "\n",
        "My goal is to use a classification model to predict whether or not contract types affect churn rates. I will then use exploratory data analysis or predictive modeling (maybe both) to answer my research question. I chose classification because the model fits my catogirized dataset with enough data to split and test to analyze and test for potential churn rates. I will use logistic regressing to evaluate the model performance."
      ]
    },
    {
      "cell_type": "markdown",
      "metadata": {
        "id": "DTynDQ5Xe3Ee"
      },
      "source": [
        "**Step 4**\n",
        "\n",
        "Think about your intended audience.  How will you communicate your results to your stakeholders?  What data storytelling techniques will you use in your presentation to engage your audience?"
      ]
    },
    {
      "cell_type": "markdown",
      "metadata": {
        "id": "YiK51IpWfGtV"
      },
      "source": [
        "**Step 4 Answer**\n",
        "\n",
        "My stakeholders are managers/decisions makers who strategize around the results of sales. I will communicate my results by comparing the current customer data to rests of the testing model that confirms a successful decrease in customer churn % based on contract type. The most important information to convey is if it makes sense to focus on a specific contract type to increase customer retention."
      ]
    },
    {
      "cell_type": "markdown",
      "source": [
        "##Task 5: Data Wrangling\n",
        "\n",
        "Use the following code block (feel free to add more) to do any data wrangling.  It may be helpful to refer to the questions you answered previously in the Exploratory Data Analysis section.  For reference, they are:\n",
        "\n",
        "Here are some questions to consider:\n",
        "\n",
        "* How many observations does your data set have?\n",
        "* How many features does your data set have?\n",
        "* Does your data have any missing values?\n",
        "* If your data has missing values, will you drop the records or impute the * missing data? What will your imputation strategy be?\n",
        "* Does your data have any outliers or unusual values? If so, how will you handle them?\n",
        "* Will you need to do any feature engineering or drop any features from your data?\n",
        "* Will you need to encode any categorical data or standardize or normalize quantitative features?\n",
        "* Will you need to split your data into traning and testing sets?\n",
        "* Will you need to do any pre-processing of text data?"
      ],
      "metadata": {
        "id": "PRpKLHkDnKGT"
      }
    },
    {
      "cell_type": "code",
      "source": [
        "!pip install scikit-learn"
      ],
      "metadata": {
        "colab": {
          "base_uri": "https://localhost:8080/"
        },
        "id": "yDVKWG5a-LdS",
        "outputId": "71a87d18-52d6-4e8c-d7bd-b394154fcdce"
      },
      "execution_count": 4,
      "outputs": [
        {
          "output_type": "stream",
          "name": "stdout",
          "text": [
            "Looking in indexes: https://pypi.org/simple, https://us-python.pkg.dev/colab-wheels/public/simple/\n",
            "Requirement already satisfied: scikit-learn in /usr/local/lib/python3.9/dist-packages (1.2.2)\n",
            "Requirement already satisfied: numpy>=1.17.3 in /usr/local/lib/python3.9/dist-packages (from scikit-learn) (1.22.4)\n",
            "Requirement already satisfied: threadpoolctl>=2.0.0 in /usr/local/lib/python3.9/dist-packages (from scikit-learn) (3.1.0)\n",
            "Requirement already satisfied: joblib>=1.1.1 in /usr/local/lib/python3.9/dist-packages (from scikit-learn) (1.1.1)\n",
            "Requirement already satisfied: scipy>=1.3.2 in /usr/local/lib/python3.9/dist-packages (from scikit-learn) (1.10.1)\n"
          ]
        }
      ]
    },
    {
      "cell_type": "code",
      "source": [
        "# Task 5 - Data Wrangling - Use this code block to do any data wrangling.\n",
        "# Make sure to clearly comment your code.\n",
        "\n",
        "#Import libraries and packages\n",
        "\n",
        "import pandas as pd\n",
        "import seaborn as sns\n",
        "import matplotlib.pyplot as plt\n",
        "import warnings\n",
        "from sklearn.exceptions import DataConversionWarning\n",
        "from sklearn.model_selection import train_test_split\n",
        "from sklearn.metrics import roc_curve, auc, confusion_matrix, precision_score, recall_score\n",
        "from sklearn.metrics import mean_squared_error, r2_score\n",
        "from sklearn.metrics import accuracy_score, precision_score, recall_score, f1_score\n",
        "from sklearn.metrics import roc_auc_score\n",
        "from sklearn.linear_model import LogisticRegression\n",
        "from sklearn.model_selection import cross_val_score, cross_validate\n",
        "\n",
        "# This codeblock conveyed the number of observations and features in my dataset\n",
        "\n",
        "print('The number of my observations in my data is', Churn.shape[0])\n",
        "print('The number of my features in my data is', Churn.shape[1])\n",
        "\n",
        "# Checked and confirmed if missing values were present.\n",
        "print('The number of missing values in my data is', Churn.isna().sum().sum())"
      ],
      "metadata": {
        "colab": {
          "base_uri": "https://localhost:8080/"
        },
        "id": "RSB53KNRQO80",
        "outputId": "87f52b41-db7c-4d0e-d83c-004a2731c95b"
      },
      "execution_count": 5,
      "outputs": [
        {
          "output_type": "stream",
          "name": "stdout",
          "text": [
            "The number of my observations in my data is 7043\n",
            "The number of my features in my data is 23\n",
            "The number of missing values in my data is 0\n"
          ]
        }
      ]
    },
    {
      "cell_type": "code",
      "source": [
        "#Task 5 continued\n",
        "\n",
        "# Binary Encoding was used for the following: \n",
        "# Tenure Catagories: [0; 12], ] >= 13\n",
        "\n",
        "# These are my Categorical Variables\n",
        "\n",
        "# My reasoning for categorizing the data features this was to group and analyze customers by the different \n",
        "# criteria to identify where a high collection of customers begin to fall cancel their subscriptions.\n",
        "\n",
        "Churn.loc[Churn['tenure'] <=12,'Tenure_0-12'] = 1\n",
        "Churn.loc[Churn['tenure'] >=13,'Tenure_0-12'] = 0\n",
        "Churn.loc[Churn['tenure'] >=13, 'Tenure_Over 1 year'] = 1\n",
        "Churn.loc[Churn['tenure'] <=12, 'Tenure_Over 1 year'] = 0\n",
        "\n",
        "# These prints were utilized to get a count if each new feature excluding any \n",
        "# Nulls (which we already identified but wanted to double check.)\n",
        "\n",
        "#print(pd.crosstab(Churn['tenure'],Churn['Tenure_0-12'], dropna = False))\n",
        "#print(pd.crosstab(Churn['tenure'],Churn['Tenure_Over 1 year'], dropna = False))\n",
        "\n",
        "# Churn Catgories: if Yes, or No\n",
        "\n",
        "Churn.loc[Churn['Churn']=='Yes','Churn?'] = 1\n",
        "#Churn.loc[Churn['Churn']!='Yes','Churn_Yes'] =0\n",
        "Churn.loc[Churn['Churn']=='No','Churn?'] = 0\n",
        "#Churn.loc[Churn['Churn']!='No','Churn_No'] =0\n",
        "\n",
        "#print(pd.crosstab(Churn['Churn'],Churn['Churn_Yes'], dropna = False))\n",
        "#print(pd.crosstab(Churn['Churn'],Churn['Churn_No'], dropna = False))\n",
        "#print(pd.crosstab(Churn['Churn'],Churn['Churn?'], dropna = False))\n",
        "\n",
        "# Contract Categories: Month-to-month, one year\n",
        "\n",
        "Churn.loc[Churn['Contract']== 'Month-to-month','Num_Monthly_Contracts'] =1\n",
        "Churn.loc[Churn['Contract']!= 'Month-to-month','Num_Monthly_Contracts'] =0\n",
        "Churn.loc[Churn['Contract'].isin(['One year', 'Two year']), 'Num_Yearly_Contracts'] = 1\n",
        "Churn.loc[~Churn['Contract'].isin(['One year', 'Two year']), 'Num_Yearly_Contracts'] = 0\n",
        "\n",
        "#print(pd.crosstab(Churn['Contract'],Churn['Num_Monthly_Contracts'], dropna = False))\n",
        "#print(pd.crosstab(Churn['Contract'],Churn['Num_Yearly_Contracts'], dropna = False))\n",
        "\n",
        "Churn.head()"
      ],
      "metadata": {
        "id": "YQMcpQNBnFJh",
        "colab": {
          "base_uri": "https://localhost:8080/",
          "height": 895
        },
        "outputId": "978ed750-edc4-4060-ecc1-286297f264bf"
      },
      "execution_count": 13,
      "outputs": [
        {
          "output_type": "stream",
          "name": "stdout",
          "text": [
            "Tenure_0-12  0.0  1.0\n",
            "tenure               \n",
            "0              0   11\n",
            "1              0  613\n",
            "2              0  238\n",
            "3              0  200\n",
            "4              0  176\n",
            "...          ...  ...\n",
            "68           100    0\n",
            "69            95    0\n",
            "70           119    0\n",
            "71           170    0\n",
            "72           362    0\n",
            "\n",
            "[73 rows x 2 columns]\n",
            "Tenure_Over 1 year  0.0  1.0\n",
            "tenure                      \n",
            "0                    11    0\n",
            "1                   613    0\n",
            "2                   238    0\n",
            "3                   200    0\n",
            "4                   176    0\n",
            "...                 ...  ...\n",
            "68                    0  100\n",
            "69                    0   95\n",
            "70                    0  119\n",
            "71                    0  170\n",
            "72                    0  362\n",
            "\n",
            "[73 rows x 2 columns]\n"
          ]
        },
        {
          "output_type": "execute_result",
          "data": {
            "text/plain": [
              "   customerID  gender  SeniorCitizen Partner Dependents  tenure PhoneService  \\\n",
              "0  7590-VHVEG  Female              0     Yes         No       1           No   \n",
              "1  5575-GNVDE    Male              0      No         No      34          Yes   \n",
              "2  3668-QPYBK    Male              0      No         No       2          Yes   \n",
              "3  7795-CFOCW    Male              0      No         No      45           No   \n",
              "4  9237-HQITU  Female              0      No         No       2          Yes   \n",
              "\n",
              "      MultipleLines InternetService OnlineSecurity OnlineBackup  \\\n",
              "0  No phone service             DSL             No          Yes   \n",
              "1                No             DSL            Yes           No   \n",
              "2                No             DSL            Yes          Yes   \n",
              "3  No phone service             DSL            Yes           No   \n",
              "4                No     Fiber optic             No           No   \n",
              "\n",
              "  DeviceProtection TechSupport StreamingTV StreamingMovies        Contract  \\\n",
              "0               No          No          No              No  Month-to-month   \n",
              "1              Yes          No          No              No        One year   \n",
              "2               No          No          No              No  Month-to-month   \n",
              "3              Yes         Yes          No              No        One year   \n",
              "4               No          No          No              No  Month-to-month   \n",
              "\n",
              "  PaperlessBilling              PaymentMethod  MonthlyCharges TotalCharges  \\\n",
              "0              Yes           Electronic check           29.85        29.85   \n",
              "1               No               Mailed check           56.95       1889.5   \n",
              "2              Yes               Mailed check           53.85       108.15   \n",
              "3               No  Bank transfer (automatic)           42.30      1840.75   \n",
              "4              Yes           Electronic check           70.70       151.65   \n",
              "\n",
              "   numAdminTickets  numTechTickets Churn  Tenure_0-12  Tenure_Over 1 year  \\\n",
              "0                0               0    No          1.0                 0.0   \n",
              "1                0               0    No          0.0                 1.0   \n",
              "2                0               0   Yes          1.0                 0.0   \n",
              "3                0               3    No          0.0                 1.0   \n",
              "4                0               0   Yes          1.0                 0.0   \n",
              "\n",
              "   Churn?  Num_Monthly_Contracts  Num_Yearly_Contracts  \n",
              "0     0.0                    1.0                   0.0  \n",
              "1     0.0                    0.0                   1.0  \n",
              "2     1.0                    1.0                   0.0  \n",
              "3     0.0                    0.0                   1.0  \n",
              "4     1.0                    1.0                   0.0  "
            ],
            "text/html": [
              "\n",
              "  <div id=\"df-08faeb87-9110-47d6-b59e-f87a7dd33a05\">\n",
              "    <div class=\"colab-df-container\">\n",
              "      <div>\n",
              "<style scoped>\n",
              "    .dataframe tbody tr th:only-of-type {\n",
              "        vertical-align: middle;\n",
              "    }\n",
              "\n",
              "    .dataframe tbody tr th {\n",
              "        vertical-align: top;\n",
              "    }\n",
              "\n",
              "    .dataframe thead th {\n",
              "        text-align: right;\n",
              "    }\n",
              "</style>\n",
              "<table border=\"1\" class=\"dataframe\">\n",
              "  <thead>\n",
              "    <tr style=\"text-align: right;\">\n",
              "      <th></th>\n",
              "      <th>customerID</th>\n",
              "      <th>gender</th>\n",
              "      <th>SeniorCitizen</th>\n",
              "      <th>Partner</th>\n",
              "      <th>Dependents</th>\n",
              "      <th>tenure</th>\n",
              "      <th>PhoneService</th>\n",
              "      <th>MultipleLines</th>\n",
              "      <th>InternetService</th>\n",
              "      <th>OnlineSecurity</th>\n",
              "      <th>OnlineBackup</th>\n",
              "      <th>DeviceProtection</th>\n",
              "      <th>TechSupport</th>\n",
              "      <th>StreamingTV</th>\n",
              "      <th>StreamingMovies</th>\n",
              "      <th>Contract</th>\n",
              "      <th>PaperlessBilling</th>\n",
              "      <th>PaymentMethod</th>\n",
              "      <th>MonthlyCharges</th>\n",
              "      <th>TotalCharges</th>\n",
              "      <th>numAdminTickets</th>\n",
              "      <th>numTechTickets</th>\n",
              "      <th>Churn</th>\n",
              "      <th>Tenure_0-12</th>\n",
              "      <th>Tenure_Over 1 year</th>\n",
              "      <th>Churn?</th>\n",
              "      <th>Num_Monthly_Contracts</th>\n",
              "      <th>Num_Yearly_Contracts</th>\n",
              "    </tr>\n",
              "  </thead>\n",
              "  <tbody>\n",
              "    <tr>\n",
              "      <th>0</th>\n",
              "      <td>7590-VHVEG</td>\n",
              "      <td>Female</td>\n",
              "      <td>0</td>\n",
              "      <td>Yes</td>\n",
              "      <td>No</td>\n",
              "      <td>1</td>\n",
              "      <td>No</td>\n",
              "      <td>No phone service</td>\n",
              "      <td>DSL</td>\n",
              "      <td>No</td>\n",
              "      <td>Yes</td>\n",
              "      <td>No</td>\n",
              "      <td>No</td>\n",
              "      <td>No</td>\n",
              "      <td>No</td>\n",
              "      <td>Month-to-month</td>\n",
              "      <td>Yes</td>\n",
              "      <td>Electronic check</td>\n",
              "      <td>29.85</td>\n",
              "      <td>29.85</td>\n",
              "      <td>0</td>\n",
              "      <td>0</td>\n",
              "      <td>No</td>\n",
              "      <td>1.0</td>\n",
              "      <td>0.0</td>\n",
              "      <td>0.0</td>\n",
              "      <td>1.0</td>\n",
              "      <td>0.0</td>\n",
              "    </tr>\n",
              "    <tr>\n",
              "      <th>1</th>\n",
              "      <td>5575-GNVDE</td>\n",
              "      <td>Male</td>\n",
              "      <td>0</td>\n",
              "      <td>No</td>\n",
              "      <td>No</td>\n",
              "      <td>34</td>\n",
              "      <td>Yes</td>\n",
              "      <td>No</td>\n",
              "      <td>DSL</td>\n",
              "      <td>Yes</td>\n",
              "      <td>No</td>\n",
              "      <td>Yes</td>\n",
              "      <td>No</td>\n",
              "      <td>No</td>\n",
              "      <td>No</td>\n",
              "      <td>One year</td>\n",
              "      <td>No</td>\n",
              "      <td>Mailed check</td>\n",
              "      <td>56.95</td>\n",
              "      <td>1889.5</td>\n",
              "      <td>0</td>\n",
              "      <td>0</td>\n",
              "      <td>No</td>\n",
              "      <td>0.0</td>\n",
              "      <td>1.0</td>\n",
              "      <td>0.0</td>\n",
              "      <td>0.0</td>\n",
              "      <td>1.0</td>\n",
              "    </tr>\n",
              "    <tr>\n",
              "      <th>2</th>\n",
              "      <td>3668-QPYBK</td>\n",
              "      <td>Male</td>\n",
              "      <td>0</td>\n",
              "      <td>No</td>\n",
              "      <td>No</td>\n",
              "      <td>2</td>\n",
              "      <td>Yes</td>\n",
              "      <td>No</td>\n",
              "      <td>DSL</td>\n",
              "      <td>Yes</td>\n",
              "      <td>Yes</td>\n",
              "      <td>No</td>\n",
              "      <td>No</td>\n",
              "      <td>No</td>\n",
              "      <td>No</td>\n",
              "      <td>Month-to-month</td>\n",
              "      <td>Yes</td>\n",
              "      <td>Mailed check</td>\n",
              "      <td>53.85</td>\n",
              "      <td>108.15</td>\n",
              "      <td>0</td>\n",
              "      <td>0</td>\n",
              "      <td>Yes</td>\n",
              "      <td>1.0</td>\n",
              "      <td>0.0</td>\n",
              "      <td>1.0</td>\n",
              "      <td>1.0</td>\n",
              "      <td>0.0</td>\n",
              "    </tr>\n",
              "    <tr>\n",
              "      <th>3</th>\n",
              "      <td>7795-CFOCW</td>\n",
              "      <td>Male</td>\n",
              "      <td>0</td>\n",
              "      <td>No</td>\n",
              "      <td>No</td>\n",
              "      <td>45</td>\n",
              "      <td>No</td>\n",
              "      <td>No phone service</td>\n",
              "      <td>DSL</td>\n",
              "      <td>Yes</td>\n",
              "      <td>No</td>\n",
              "      <td>Yes</td>\n",
              "      <td>Yes</td>\n",
              "      <td>No</td>\n",
              "      <td>No</td>\n",
              "      <td>One year</td>\n",
              "      <td>No</td>\n",
              "      <td>Bank transfer (automatic)</td>\n",
              "      <td>42.30</td>\n",
              "      <td>1840.75</td>\n",
              "      <td>0</td>\n",
              "      <td>3</td>\n",
              "      <td>No</td>\n",
              "      <td>0.0</td>\n",
              "      <td>1.0</td>\n",
              "      <td>0.0</td>\n",
              "      <td>0.0</td>\n",
              "      <td>1.0</td>\n",
              "    </tr>\n",
              "    <tr>\n",
              "      <th>4</th>\n",
              "      <td>9237-HQITU</td>\n",
              "      <td>Female</td>\n",
              "      <td>0</td>\n",
              "      <td>No</td>\n",
              "      <td>No</td>\n",
              "      <td>2</td>\n",
              "      <td>Yes</td>\n",
              "      <td>No</td>\n",
              "      <td>Fiber optic</td>\n",
              "      <td>No</td>\n",
              "      <td>No</td>\n",
              "      <td>No</td>\n",
              "      <td>No</td>\n",
              "      <td>No</td>\n",
              "      <td>No</td>\n",
              "      <td>Month-to-month</td>\n",
              "      <td>Yes</td>\n",
              "      <td>Electronic check</td>\n",
              "      <td>70.70</td>\n",
              "      <td>151.65</td>\n",
              "      <td>0</td>\n",
              "      <td>0</td>\n",
              "      <td>Yes</td>\n",
              "      <td>1.0</td>\n",
              "      <td>0.0</td>\n",
              "      <td>1.0</td>\n",
              "      <td>1.0</td>\n",
              "      <td>0.0</td>\n",
              "    </tr>\n",
              "  </tbody>\n",
              "</table>\n",
              "</div>\n",
              "      <button class=\"colab-df-convert\" onclick=\"convertToInteractive('df-08faeb87-9110-47d6-b59e-f87a7dd33a05')\"\n",
              "              title=\"Convert this dataframe to an interactive table.\"\n",
              "              style=\"display:none;\">\n",
              "        \n",
              "  <svg xmlns=\"http://www.w3.org/2000/svg\" height=\"24px\"viewBox=\"0 0 24 24\"\n",
              "       width=\"24px\">\n",
              "    <path d=\"M0 0h24v24H0V0z\" fill=\"none\"/>\n",
              "    <path d=\"M18.56 5.44l.94 2.06.94-2.06 2.06-.94-2.06-.94-.94-2.06-.94 2.06-2.06.94zm-11 1L8.5 8.5l.94-2.06 2.06-.94-2.06-.94L8.5 2.5l-.94 2.06-2.06.94zm10 10l.94 2.06.94-2.06 2.06-.94-2.06-.94-.94-2.06-.94 2.06-2.06.94z\"/><path d=\"M17.41 7.96l-1.37-1.37c-.4-.4-.92-.59-1.43-.59-.52 0-1.04.2-1.43.59L10.3 9.45l-7.72 7.72c-.78.78-.78 2.05 0 2.83L4 21.41c.39.39.9.59 1.41.59.51 0 1.02-.2 1.41-.59l7.78-7.78 2.81-2.81c.8-.78.8-2.07 0-2.86zM5.41 20L4 18.59l7.72-7.72 1.47 1.35L5.41 20z\"/>\n",
              "  </svg>\n",
              "      </button>\n",
              "      \n",
              "  <style>\n",
              "    .colab-df-container {\n",
              "      display:flex;\n",
              "      flex-wrap:wrap;\n",
              "      gap: 12px;\n",
              "    }\n",
              "\n",
              "    .colab-df-convert {\n",
              "      background-color: #E8F0FE;\n",
              "      border: none;\n",
              "      border-radius: 50%;\n",
              "      cursor: pointer;\n",
              "      display: none;\n",
              "      fill: #1967D2;\n",
              "      height: 32px;\n",
              "      padding: 0 0 0 0;\n",
              "      width: 32px;\n",
              "    }\n",
              "\n",
              "    .colab-df-convert:hover {\n",
              "      background-color: #E2EBFA;\n",
              "      box-shadow: 0px 1px 2px rgba(60, 64, 67, 0.3), 0px 1px 3px 1px rgba(60, 64, 67, 0.15);\n",
              "      fill: #174EA6;\n",
              "    }\n",
              "\n",
              "    [theme=dark] .colab-df-convert {\n",
              "      background-color: #3B4455;\n",
              "      fill: #D2E3FC;\n",
              "    }\n",
              "\n",
              "    [theme=dark] .colab-df-convert:hover {\n",
              "      background-color: #434B5C;\n",
              "      box-shadow: 0px 1px 3px 1px rgba(0, 0, 0, 0.15);\n",
              "      filter: drop-shadow(0px 1px 2px rgba(0, 0, 0, 0.3));\n",
              "      fill: #FFFFFF;\n",
              "    }\n",
              "  </style>\n",
              "\n",
              "      <script>\n",
              "        const buttonEl =\n",
              "          document.querySelector('#df-08faeb87-9110-47d6-b59e-f87a7dd33a05 button.colab-df-convert');\n",
              "        buttonEl.style.display =\n",
              "          google.colab.kernel.accessAllowed ? 'block' : 'none';\n",
              "\n",
              "        async function convertToInteractive(key) {\n",
              "          const element = document.querySelector('#df-08faeb87-9110-47d6-b59e-f87a7dd33a05');\n",
              "          const dataTable =\n",
              "            await google.colab.kernel.invokeFunction('convertToInteractive',\n",
              "                                                     [key], {});\n",
              "          if (!dataTable) return;\n",
              "\n",
              "          const docLinkHtml = 'Like what you see? Visit the ' +\n",
              "            '<a target=\"_blank\" href=https://colab.research.google.com/notebooks/data_table.ipynb>data table notebook</a>'\n",
              "            + ' to learn more about interactive tables.';\n",
              "          element.innerHTML = '';\n",
              "          dataTable['output_type'] = 'display_data';\n",
              "          await google.colab.output.renderOutput(dataTable, element);\n",
              "          const docLink = document.createElement('div');\n",
              "          docLink.innerHTML = docLinkHtml;\n",
              "          element.appendChild(docLink);\n",
              "        }\n",
              "      </script>\n",
              "    </div>\n",
              "  </div>\n",
              "  "
            ]
          },
          "metadata": {},
          "execution_count": 13
        }
      ]
    },
    {
      "cell_type": "code",
      "source": [
        "#Task 5 continued:\n",
        "\n",
        "# failed code. I tried to add Yearly contract % but think I may have done it too soon before the modeling.\n",
        "\n",
        "#Churn['Yearly Contract Percentage'] = Churn['Num_Yearly_Contracts'] / Churn['Num_Yearly_Contracts'] + Churn['Num_Monthly_Contracts']\n",
        "\n",
        "\n",
        "#Churn.head()"
      ],
      "metadata": {
        "id": "TZKld-bEdWeM"
      },
      "execution_count": null,
      "outputs": []
    },
    {
      "cell_type": "code",
      "source": [
        "# Task 5 Continued:\n",
        "\n",
        "# Visualised what Churn looks like against Month to Month, Yearly contracts\n",
        "# as well as Churn against customer Tenure between 0-12 months, or after 1 year (13 months)\n",
        "\n",
        "sns.lmplot(x='Churn?', y='Num_Yearly_Contracts', data=Churn)\n",
        "\n",
        "sns.lmplot(x='Churn?', y='Num_Monthly_Contracts', data=Churn)\n",
        "\n",
        "sns.lmplot(x='Churn?', y='Tenure_0-12', data=Churn)\n",
        "\n",
        "sns.lmplot(x='Churn?', y='Tenure_Over 1 year', data=Churn)"
      ],
      "metadata": {
        "colab": {
          "base_uri": "https://localhost:8080/",
          "height": 1000
        },
        "id": "rrGQhcxKW2av",
        "outputId": "c198e938-1db4-4405-df51-7907ef4b248a"
      },
      "execution_count": 8,
      "outputs": [
        {
          "output_type": "execute_result",
          "data": {
            "text/plain": [
              "<seaborn.axisgrid.FacetGrid at 0x7f6b7ef17250>"
            ]
          },
          "metadata": {},
          "execution_count": 8
        },
        {
          "output_type": "display_data",
          "data": {
            "text/plain": [
              "<Figure size 500x500 with 1 Axes>"
            ],
            "image/png": "[encoded data removed]"
          },
          "metadata": {}
        },
        {
          "output_type": "display_data",
          "data": {
            "text/plain": [
              "<Figure size 500x500 with 1 Axes>"
            ],
            "image/png": "[encoded data removed]"
          },
          "metadata": {}
        },
        {
          "output_type": "display_data",
          "data": {
            "text/plain": [
              "<Figure size 500x500 with 1 Axes>"
            ],
            "image/png": "[encoded data removed]"
          },
          "metadata": {}
        },
        {
          "output_type": "display_data",
          "data": {
            "text/plain": [
              "<Figure size 500x500 with 1 Axes>"
            ],
            "image/png": "[encoded data removed]"
          },
          "metadata": {}
        }
      ]
    },
    {
      "cell_type": "code",
      "source": [
        "#Task 5 Final:\n",
        "\n",
        "# Final visualization on what Churn looks like against Month to Month, Yearly contracts\n",
        "# as well as Churn against customer Tenure between 0-12 months, or after 1 year (13 months)\n",
        "\n",
        "# Set up the subplots\n",
        "fig, axes = plt.subplots(2, 2, figsize=(10, 8))\n",
        "fig.tight_layout(pad=5)\n",
        "\n",
        "# Plot 1: Num_Yearly_Contracts\n",
        "sns.regplot(x='Churn?', y='Num_Yearly_Contracts', data=Churn, ax=axes[0, 0])\n",
        "axes[0, 0].set_title('Num_Yearly_Contracts')\n",
        "axes[0, 0].set_xlabel('Churn?')\n",
        "axes[0, 0].set_ylabel('Num_Yearly_Contracts')\n",
        "\n",
        "# Plot 2: Num_Monthly_Contracts\n",
        "sns.regplot(x='Churn?', y='Num_Monthly_Contracts', data=Churn, ax=axes[0, 1])\n",
        "axes[0, 1].set_title('Num_Monthly_Contracts')\n",
        "axes[0, 1].set_xlabel('Churn?')\n",
        "axes[0, 1].set_ylabel('Num_Monthly_Contracts')\n",
        "\n",
        "# Plot 3: Tenure_0-12\n",
        "sns.regplot(x='Churn?', y='Tenure_0-12', data=Churn, ax=axes[1, 0])\n",
        "axes[1, 0].set_title('Tenure_0-12')\n",
        "axes[1, 0].set_xlabel('Churn?')\n",
        "axes[1, 0].set_ylabel('Tenure_0-12')\n",
        "\n",
        "# Plot 4: Tenure_Over 1 year\n",
        "sns.regplot(x='Churn?', y='Tenure_Over 1 year', data=Churn, ax=axes[1, 1])\n",
        "axes[1, 1].set_title('Tenure_Over 1 year')\n",
        "axes[1, 1].set_xlabel('Churn?')\n",
        "axes[1, 1].set_ylabel('Tenure_Over 1 year')\n",
        "\n",
        "plt.show()"
      ],
      "metadata": {
        "colab": {
          "base_uri": "https://localhost:8080/",
          "height": 734
        },
        "id": "ZK_h8khOyW0f",
        "outputId": "352fc544-dc98-4772-a4b7-1a7f285172f2"
      },
      "execution_count": 11,
      "outputs": [
        {
          "output_type": "display_data",
          "data": {
            "text/plain": [
              "<Figure size 1000x800 with 4 Axes>"
            ],
            "image/png": "[encoded data removed]"
          },
          "metadata": {}
        }
      ]
    },
    {
      "cell_type": "markdown",
      "source": [
        "##Task 6: Modeling\n",
        "\n",
        "Use the following code block to build your ML model.  "
      ],
      "metadata": {
        "id": "FVyXtpPhnxMp"
      }
    },
    {
      "cell_type": "code",
      "source": [
        "# Task 6 - Modeling - Use this code block to build your ML model.\n",
        "# Make sure to clearly comment your code.\n",
        "\n",
        "# Split my target and features  \n",
        "\n",
        "y = Churn[['Churn?']]\n",
        "\n",
        "X_1 = Churn[['Num_Monthly_Contracts']]\n",
        "\n",
        "X_2 = Churn[['Num_Yearly_Contracts']]\n",
        "\n",
        "X_3 = Churn[['Tenure_0-12']]\n",
        "\n",
        "X_4 = Churn[['Tenure_Over 1 year']]\n",
        "\n",
        "#Train Test Split in 4 diffrent tests\n",
        "\n",
        "X_1_train_val, X_1_test, y_train_val, y_test = train_test_split(X_1, y, test_size=0.25, random_state=88)\n",
        "X_1_train, X_1_val, y_train, y_val = train_test_split(X_1_train_val, y, test_size=0.3333, random_state=88)\n",
        "\n",
        "X_2_train_val, X_2_test, y_train_val, y_test = train_test_split(X_2, y, test_size=0.25, random_state=88)\n",
        "X_2_train, X_2_val, y_train, y_val = train_test_split(X_2_train_val, y, test_size=0.3333, random_state=88)\n",
        "\n",
        "X_3_train_val, X_3_test, y_train_val, y_test = train_test_split(X_3, y, test_size=0.25, random_state=88)\n",
        "X_3_train, X_3_val, y_train, y_val = train_test_split(X_3_train_val, y, test_size=0.3333, random_state=88)\n",
        "\n",
        "X_4_train_val, X_4_test, y_train_val, y_test = train_test_split(X_4, y, test_size=0.25, random_state=88)\n",
        "X_4_train, X_4_val, y_train, y_val = train_test_split(X_4_train_val, y, test_size=0.3333, random_state=88)\n",
        "\n",
        "#fit the logistic regression model to train the data across the 4 separate features.\n",
        "\n",
        "log_reg_1 = LogisticRegression(random_state=0)\n",
        "log_reg_model_1 = log_reg_1.fit(X_1_train, y_train)\n",
        "\n",
        "log_reg_2 = LogisticRegression(random_state=0)\n",
        "log_reg_model_2 = log_reg_2.fit(X_2_train, y_train)\n",
        "\n",
        "log_reg_3 = LogisticRegression(random_state=0)\n",
        "log_reg_model_3 = log_reg_3.fit(X_3_train, y_train)\n",
        "\n",
        "log_reg_4 = LogisticRegression(random_state=0)\n",
        "log_reg_model_4 = log_reg_4.fit(X_4_train, y_train)\n",
        "\n",
        "# sadly this did not work. I think I bit off more than I could chew with my knowledge\n",
        "# I realized at this step that I needed to simplify my work. I heavily leaned on my\n",
        "# notes for the ML class and wanted to see if running multiple tests were possible \n",
        "# but I think I missed something here or don't have enough knowledge on how to do this properly."
      ],
      "metadata": {
        "id": "W8pVuG8OowqG"
      },
      "execution_count": null,
      "outputs": []
    },
    {
      "cell_type": "code",
      "source": [
        "## Task 6 Continued:\n",
        "\n",
        "## This one finally worked! I went back to basics as I'd complete forgotten\n",
        "## that I could include multiple features in an my axis. Went back to my ML notes \n",
        "## and finally fit the logistic regression model and got an accuracy that I think was okay but not the best.\n",
        "\n",
        "# Split my target and features  \n",
        "\n",
        "y = Churn[['Churn?']]\n",
        "X = Churn[['Num_Monthly_Contracts', 'Num_Yearly_Contracts', 'Tenure_0-12', 'Tenure_Over 1 year']]\n",
        "\n",
        "#Train Test Split my data\n",
        "\n",
        "X_train_val, X_test, y_train_val, y_test = train_test_split(X, y, test_size=0.25, random_state=88)\n",
        "X_train, X_val, y_train, y_val = train_test_split(X_train_val, y_train_val, test_size=0.3333, random_state=88)\n",
        "\n",
        "# Fit to logistic regression model to train the data\n",
        "\n",
        "log_reg = LogisticRegression(random_state=0)\n",
        "log_reg_model = log_reg.fit(X_train, y_train)\n",
        "\n",
        "accuracy = log_reg_model.score(X_train,y_train)\n",
        "print(accuracy)\n",
        "print('The accuracy of the model is 74%')"
      ],
      "metadata": {
        "colab": {
          "base_uri": "https://localhost:8080/"
        },
        "id": "vl6O4S5tnBW9",
        "outputId": "7aa60c74-662d-4bb8-ad38-a9d52a0e75a6"
      },
      "execution_count": 12,
      "outputs": [
        {
          "output_type": "stream",
          "name": "stdout",
          "text": [
            "0.7421187162737859\n",
            "The accuracy of the model is 74%\n"
          ]
        },
        {
          "output_type": "stream",
          "name": "stderr",
          "text": [
            "/usr/local/lib/python3.9/dist-packages/sklearn/utils/validation.py:1143: DataConversionWarning: A column-vector y was passed when a 1d array was expected. Please change the shape of y to (n_samples, ), for example using ravel().\n",
            "  y = column_or_1d(y, warn=True)\n"
          ]
        }
      ]
    },
    {
      "cell_type": "markdown",
      "source": [
        "##Task 7: Evaluation\n",
        "\n",
        "Use the following code block to evaluate your ML model.  "
      ],
      "metadata": {
        "id": "nqpRwrQPo4WK"
      }
    },
    {
      "cell_type": "code",
      "source": [
        "#Task 7 - Evaluation - Use this code block to evaluate your ML model.\n",
        "# Make sure to clearly comment your code.\n",
        "\n",
        "## Note I have included this to ignore system warning clutter when printing\n",
        "\n",
        "warnings.filterwarnings(\"ignore\", category=DataConversionWarning)\n",
        "\n",
        "## Accuracy before cross validation\n",
        "\n",
        "accuracy = log_reg_model.score(X_train, y_train) \n",
        "print('The accuracy of this model without CV:', accuracy) \n",
        "\n",
        "## aftter cross validation:\n",
        "cv_scores = cross_val_score(log_reg_model, X_train_val, y_train_val, cv=10)\n",
        "\n",
        "# Print the accuracy for each fold\n",
        "print(\"Cross-validation accuracy for each fold:\", cv_scores)"
      ],
      "metadata": {
        "id": "sqq4AwbppBs4",
        "colab": {
          "base_uri": "https://localhost:8080/"
        },
        "outputId": "ab1183c2-ca35-4fc8-e988-a6ec893806b5"
      },
      "execution_count": 62,
      "outputs": [
        {
          "output_type": "stream",
          "name": "stdout",
          "text": [
            "The accuracy of this model without CV: 0.7421187162737859\n",
            "Cross-validation accuracy for each fold: [0.73345936 0.71644612 0.74621212 0.73863636 0.71022727 0.77083333\n",
            " 0.74810606 0.78219697 0.75378788 0.73295455]\n"
          ]
        }
      ]
    },
    {
      "cell_type": "markdown",
      "source": [
        "##Task 8: Results\n",
        "\n",
        "Use the following text block to summarize your results.  How will you communicate the answer to your research question to stakeholders? "
      ],
      "metadata": {
        "id": "28NBPyS3pJKf"
      }
    },
    {
      "cell_type": "markdown",
      "source": [
        "**Task 8 Answer**\n",
        "\n",
        "Based on the results (accuracy and Cross validation) from my logistic regression model there is lacking evidence necessary to suggest a project plan.\n",
        "\n",
        "The dataset is lacking detailed or specific features necessary for improving the accuracy of this model. I think with More time and further reasearch I could have maybe created the features I need to create a better model. \n",
        "\n",
        "74% isn't terrible, but to suggest a project for improvement to management based on this model's results would not be wise. I would love to continue research in the future."
      ],
      "metadata": {
        "id": "NlGxokmYpWrj"
      }
    },
    {
      "cell_type": "markdown",
      "metadata": {
        "id": "nN23e0hUQyVe"
      },
      "source": [
        "#Part 2: Presentation \n",
        "\n"
      ]
    },
    {
      "cell_type": "markdown",
      "source": [
        "##Task 1: Slide Deck\n",
        "\n",
        "Create and present a slide deck to your classmates showing how you answered your research question.  You can find a Slide Template in the course materials or create your own.  The presentation should be about five minutes long."
      ],
      "metadata": {
        "id": "EgSqhfISBF1j"
      }
    },
    {
      "cell_type": "markdown",
      "source": [
        "##Task 2: Reflection\n",
        "\n",
        "Use the following text block to reflect on the project.  Did you run into anything that was particularly difficult?  What part(s) of the project did you enjoy most?  Did your results leave you with any new questions you'd investigate if you had more time?"
      ],
      "metadata": {
        "id": "uoX0vHCAp8id"
      }
    },
    {
      "cell_type": "markdown",
      "source": [
        "**Task 2 Answer** \n",
        "\n",
        "I would say the the most difficult part of this model was definitely the modeling itself. I remember how to use the code like Train test split (to an extent) but had to watch tons of videos and even ask ChatGPT for explanations on how some of these functions to make sense of them with my thought process. \n",
        "\n",
        "Though, it was tedious I did infact get lost in the work like I once did when I first was exposed to data science coding, and to find the passion in the work at the end of this course just felt really great!\n",
        "\n",
        "If I had more time I'd 100% research more modeling options as well. Even though I was able to get the code to work for me I still dont think I have enough experience or real understanding on how to use modeling very well yet. Though it's inspried me to continue working on this on my own after this.\n"
      ],
      "metadata": {
        "id": "LB42k9KkqVU-"
      }
    }
  ]
}